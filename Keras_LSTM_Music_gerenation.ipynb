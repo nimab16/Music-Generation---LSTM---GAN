{
  "cells": [
    {
      "cell_type": "markdown",
      "metadata": {
        "id": "view-in-github",
        "colab_type": "text"
      },
      "source": [
        "<a href=\"https://colab.research.google.com/github/nimab16/Music-Generation-LSTM-GAN/blob/main/Keras_LSTM_Music_gerenation.ipynb\" target=\"_parent\"><img src=\"https://colab.research.google.com/assets/colab-badge.svg\" alt=\"Open In Colab\"/></a>"
      ]
    },
    {
      "cell_type": "markdown",
      "metadata": {
        "id": "AZ8rdK9Ocl62"
      },
      "source": [
        "# Mount Google drive\n",
        "Note: before running any cell, please check that your Runtime has GPU!"
      ]
    },
    {
      "cell_type": "code",
      "metadata": {
        "id": "KGPjx7KZnQuq"
      },
      "source": [
        "from google.colab import drive\n",
        "drive.mount('/content/drive')"
      ],
      "execution_count": null,
      "outputs": []
    },
    {
      "cell_type": "markdown",
      "source": [
        "# Clone codes form github\n"
      ],
      "metadata": {
        "id": "Q3xddw2jxqZD"
      }
    },
    {
      "cell_type": "code",
      "metadata": {
        "id": "pQYfhCDxWH5q"
      },
      "source": [
        "!git clone https://github.com/subpath/Keras_music_gereration"
      ],
      "execution_count": null,
      "outputs": []
    },
    {
      "cell_type": "markdown",
      "source": [
        "# install the libraries\n",
        "Here you can see which libraries with which version is used"
      ],
      "metadata": {
        "id": "lp4mysNfx7jY"
      }
    },
    {
      "cell_type": "code",
      "metadata": {
        "id": "KAZC9HlQWugK"
      },
      "source": [
        "!pip install tensorflow==1.14.0\n",
        "!pip install tensorflow-gpu==1.14.0\n",
        "!pip install mido==1.2.9\n",
        "!pip install Keras==2.1.2\n",
        "!pip install sklearn==0.0\n",
        "!pip install numpy==1.17.3"
      ],
      "execution_count": null,
      "outputs": []
    },
    {
      "cell_type": "markdown",
      "metadata": {
        "id": "2ekv0XN8H-Xg"
      },
      "source": [
        "# Music gereration firth Keras and TensorFlow backend\n",
        "\n",
        "Plan was simple:\n",
        "1. Read midi file, convert it to matrix of features\n",
        "2. Create simple model with Keras and LSTM to learn the pattern\n",
        "3. Use subsample of initial midi file as a input for model to generate pure art\n",
        "4. Save prediction from model to midi file\n",
        ".\n",
        ".\n",
        ".\n",
        "5. PROFIT\n"
      ]
    },
    {
      "cell_type": "code",
      "execution_count": null,
      "metadata": {
        "id": "v9V51WU6H-Xm"
      },
      "outputs": [],
      "source": [
        "import sys\n",
        "\n",
        "#!{sys.executable} -m pip install -q mido tqdm pandas tensorflow scikit-learn\n",
        "# on my macOS I couldn't import keras properly, so I reinstall it with this command\n",
        "# maybe you will need it too 🤷‍♂️\n",
        "# !{sys.executable} -m  pip uninstall -y tensorflow keras tf-nightly keras-nightly"
      ]
    },
    {
      "cell_type": "code",
      "execution_count": null,
      "metadata": {
        "id": "6KTyHDZ4H-Xp"
      },
      "outputs": [],
      "source": [
        "import mido\n",
        "import numpy as np\n",
        "from mido import Message, MidiFile, MidiTrack\n",
        "from sklearn.preprocessing import MinMaxScaler\n",
        "from tensorflow import keras\n",
        "from tensorflow.keras.callbacks import ModelCheckpoint\n",
        "from tensorflow.keras.layers import LSTM, Activation, Dense, Dropout, Flatten\n",
        "from tensorflow.keras.models import Sequential\n",
        "from tensorflow.keras.optimizers import Adam\n",
        "from tensorflow.keras.preprocessing import sequence"
      ]
    },
    {
      "cell_type": "markdown",
      "metadata": {
        "id": "IXZz8mxaH-Xq"
      },
      "source": [
        "##### Read midi file\n",
        "You can choose another music to generate another song based on that"
      ]
    },
    {
      "cell_type": "code",
      "execution_count": null,
      "metadata": {
        "id": "PhewkErNH-Xs"
      },
      "outputs": [],
      "source": [
        "mid = MidiFile(\n",
        "    \"/content/Keras_music_gereration/Samples/Nintendo_-_Pokemon_Fire_Red_Route_1_Piano_Cover_Hard_Version.mid\"\n",
        ")\n",
        "notes = []"
      ]
    },
    {
      "cell_type": "markdown",
      "metadata": {
        "id": "r4t-la_WH-Xs"
      },
      "source": [
        "##### Extract notes sequence\n",
        "for the sake of simplicity I will use only 1 channel, it's like playining on piano with 1 hand 🙃"
      ]
    },
    {
      "cell_type": "code",
      "execution_count": null,
      "metadata": {
        "id": "KeV32ZEsH-Xt"
      },
      "outputs": [],
      "source": [
        "notes = []\n",
        "for msg in mid:\n",
        "    if not msg.is_meta and msg.channel == 0 and msg.type == \"note_on\":\n",
        "        data = msg.bytes()\n",
        "        notes.append(data[1])"
      ]
    },
    {
      "cell_type": "markdown",
      "metadata": {
        "id": "PyWoW33gH-Xu"
      },
      "source": [
        "#### Apply min-max scalling"
      ]
    },
    {
      "cell_type": "code",
      "execution_count": null,
      "metadata": {
        "id": "9IQLUabMH-Xv"
      },
      "outputs": [],
      "source": [
        "scaler = MinMaxScaler(feature_range=(0, 1))\n",
        "scaler.fit(np.array(notes).reshape(-1, 1))\n",
        "notes = list(scaler.transform(np.array(notes).reshape(-1, 1)))"
      ]
    },
    {
      "cell_type": "markdown",
      "metadata": {
        "id": "yStfDhy9H-Xx"
      },
      "source": [
        "#### Prepare features for training and data subsample for prediction"
      ]
    },
    {
      "cell_type": "code",
      "execution_count": null,
      "metadata": {
        "id": "_bQPuqTlH-Xy"
      },
      "outputs": [],
      "source": [
        "# LSTM layers requires that data must have a certain shape\n",
        "# create list of lists fist\n",
        "notes = [list(note) for note in notes]\n",
        "\n",
        "# subsample data for training and prediction\n",
        "X = []\n",
        "y = []\n",
        "# number of notes in a batch\n",
        "n_prev = 30\n",
        "for i in range(len(notes) - n_prev):\n",
        "    X.append(notes[i : i + n_prev])\n",
        "    y.append(notes[i + n_prev])\n",
        "# save a seed to do prediction later\n",
        "X_test = X[-300:]\n",
        "X = X[:-300]\n",
        "y = y[:-300]"
      ]
    },
    {
      "cell_type": "markdown",
      "metadata": {
        "id": "H0Vq8LzEH-Xz"
      },
      "source": [
        "#### Made sequential model with several layers, use LSTM as it time dependent data\n",
        "\n",
        "I also whant to save checkpoints"
      ]
    },
    {
      "cell_type": "code",
      "execution_count": null,
      "metadata": {
        "id": "U9gWQIkCH-X0"
      },
      "outputs": [],
      "source": [
        "model = Sequential()\n",
        "model.add(LSTM(256, input_shape=(n_prev, 1), return_sequences=True))\n",
        "model.add(Dropout(0.6))\n",
        "model.add(LSTM(128, input_shape=(n_prev, 1), return_sequences=True))\n",
        "model.add(Dropout(0.6))\n",
        "model.add(LSTM(64, input_shape=(n_prev, 1), return_sequences=False))\n",
        "model.add(Dropout(0.6))\n",
        "model.add(Dense(1))\n",
        "model.add(Activation(\"linear\"))\n",
        "optimizer = Adam(learning_rate=0.001)\n",
        "model.compile(loss=\"mse\", optimizer=optimizer)\n",
        "filepath = \"/content/Keras_music_gereration/Checkpoints/checkpoint_model_{epoch:02d}.hdf5\"\n",
        "model_save_callback = ModelCheckpoint(\n",
        "    filepath,\n",
        "    monitor=\"val_acc\",\n",
        "    verbose=1,\n",
        "    save_best_only=False,\n",
        "    mode=\"auto\",\n",
        "    save_freq=5,\n",
        ")"
      ]
    },
    {
      "cell_type": "markdown",
      "metadata": {
        "id": "mfNys050H-X1"
      },
      "source": [
        "#### Train your model.\n",
        "It might take a while"
      ]
    },
    {
      "cell_type": "code",
      "execution_count": null,
      "metadata": {
        "collapsed": true,
        "jupyter": {
          "outputs_hidden": true
        },
        "tags": [],
        "id": "yB3yxIA5H-X2"
      },
      "outputs": [],
      "source": [
        "model.fit(np.array(X), np.array(y), 32, 10, verbose=1, callbacks=[model_save_callback])"
      ]
    },
    {
      "cell_type": "markdown",
      "metadata": {
        "id": "QPvn8YE1H-X3"
      },
      "source": [
        "#### Make a prediction"
      ]
    },
    {
      "cell_type": "code",
      "execution_count": null,
      "metadata": {
        "id": "SwJXpRnPH-X4"
      },
      "outputs": [],
      "source": [
        "prediction = model.predict(np.array(X_test))\n",
        "prediction = np.squeeze(prediction)\n",
        "prediction = np.squeeze(scaler.inverse_transform(prediction.reshape(-1, 1)))\n",
        "prediction = [int(i) for i in prediction]"
      ]
    },
    {
      "cell_type": "markdown",
      "metadata": {
        "id": "Flx5w5e1H-X5"
      },
      "source": [
        "#### Save your result to new midi file"
      ]
    },
    {
      "cell_type": "code",
      "execution_count": null,
      "metadata": {
        "id": "J4r2IdYQH-X5"
      },
      "outputs": [],
      "source": [
        "mid = MidiFile()\n",
        "track = MidiTrack()\n",
        "t = 0\n",
        "for note in prediction:\n",
        "    msg_on = Message.from_dict({'type': 'note_on', 'channel': 0, 'note': note, 'velocity': 67, 'time':0})\n",
        "    # you need to add some pauses \"note_off\"\n",
        "    msg_off = Message.from_dict({'type': 'note_off', 'channel': 0, 'note': note, 'velocity': 67, 'time':64})\n",
        "    track.append(msg_on)\n",
        "    track.append(msg_off)\n",
        "    track.append(msg_off)\n",
        "mid.tracks.append(track)\n",
        "mid.save(\"/content/drive/MyDrive/GAN music/LSTM_music_10_epoch.mid\")"
      ]
    },
    {
      "cell_type": "markdown",
      "metadata": {
        "id": "Yp8YlWYOH-X5"
      },
      "source": [
        "#### Just listen to it. The result is surreal!"
      ]
    }
  ],
  "metadata": {
    "kernelspec": {
      "display_name": "Python 3",
      "language": "python",
      "name": "python3"
    },
    "language_info": {
      "codemirror_mode": {
        "name": "ipython",
        "version": 3
      },
      "file_extension": ".py",
      "mimetype": "text/x-python",
      "name": "python",
      "nbconvert_exporter": "python",
      "pygments_lexer": "ipython3",
      "version": "3.6.8"
    },
    "colab": {
      "name": "Keras and LSTM Music gerenation.ipynb",
      "provenance": [],
      "collapsed_sections": [],
      "include_colab_link": true
    },
    "accelerator": "GPU"
  },
  "nbformat": 4,
  "nbformat_minor": 0
}